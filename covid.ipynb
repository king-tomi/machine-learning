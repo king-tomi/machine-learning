{
 "cells": [
  {
   "cell_type": "code",
   "execution_count": 1,
   "metadata": {},
   "outputs": [],
   "source": [
    "!pip install -q pypdf4"
   ]
  },
  {
   "cell_type": "code",
   "execution_count": 9,
   "metadata": {},
   "outputs": [],
   "source": [
    "import PyPDF4"
   ]
  },
  {
   "cell_type": "code",
   "execution_count": 46,
   "metadata": {},
   "outputs": [
    {
     "data": {
      "text/html": [
       "<div>\n",
       "<style scoped>\n",
       "    .dataframe tbody tr th:only-of-type {\n",
       "        vertical-align: middle;\n",
       "    }\n",
       "\n",
       "    .dataframe tbody tr th {\n",
       "        vertical-align: top;\n",
       "    }\n",
       "\n",
       "    .dataframe thead th {\n",
       "        text-align: right;\n",
       "    }\n",
       "</style>\n",
       "<table border=\"1\" class=\"dataframe\">\n",
       "  <thead>\n",
       "    <tr style=\"text-align: right;\">\n",
       "      <th></th>\n",
       "      <th>Province/State</th>\n",
       "      <th>Country/Region</th>\n",
       "      <th>Lat</th>\n",
       "      <th>Long</th>\n",
       "      <th>Date</th>\n",
       "      <th>Value</th>\n",
       "    </tr>\n",
       "  </thead>\n",
       "  <tbody>\n",
       "    <tr>\n",
       "      <th>0</th>\n",
       "      <td>#adm1+name</td>\n",
       "      <td>#country+name</td>\n",
       "      <td>#geo+lat</td>\n",
       "      <td>#geo+lon</td>\n",
       "      <td>#date</td>\n",
       "      <td>#affected+infected+value+num</td>\n",
       "    </tr>\n",
       "    <tr>\n",
       "      <th>1</th>\n",
       "      <td>NaN</td>\n",
       "      <td>Afghanistan</td>\n",
       "      <td>33</td>\n",
       "      <td>65</td>\n",
       "      <td>2020-03-16</td>\n",
       "      <td>21</td>\n",
       "    </tr>\n",
       "    <tr>\n",
       "      <th>2</th>\n",
       "      <td>NaN</td>\n",
       "      <td>Afghanistan</td>\n",
       "      <td>33</td>\n",
       "      <td>65</td>\n",
       "      <td>2020-03-15</td>\n",
       "      <td>16</td>\n",
       "    </tr>\n",
       "    <tr>\n",
       "      <th>3</th>\n",
       "      <td>NaN</td>\n",
       "      <td>Afghanistan</td>\n",
       "      <td>33</td>\n",
       "      <td>65</td>\n",
       "      <td>2020-03-14</td>\n",
       "      <td>11</td>\n",
       "    </tr>\n",
       "    <tr>\n",
       "      <th>4</th>\n",
       "      <td>NaN</td>\n",
       "      <td>Afghanistan</td>\n",
       "      <td>33</td>\n",
       "      <td>65</td>\n",
       "      <td>2020-03-13</td>\n",
       "      <td>7</td>\n",
       "    </tr>\n",
       "  </tbody>\n",
       "</table>\n",
       "</div>"
      ],
      "text/plain": [
       "  Province/State Country/Region       Lat      Long        Date  \\\n",
       "0     #adm1+name  #country+name  #geo+lat  #geo+lon       #date   \n",
       "1            NaN    Afghanistan        33        65  2020-03-16   \n",
       "2            NaN    Afghanistan        33        65  2020-03-15   \n",
       "3            NaN    Afghanistan        33        65  2020-03-14   \n",
       "4            NaN    Afghanistan        33        65  2020-03-13   \n",
       "\n",
       "                          Value  \n",
       "0  #affected+infected+value+num  \n",
       "1                            21  \n",
       "2                            16  \n",
       "3                            11  \n",
       "4                             7  "
      ]
     },
     "execution_count": 46,
     "metadata": {},
     "output_type": "execute_result"
    }
   ],
   "source": [
    "\n",
    "import types\n",
    "import pandas as pd\n",
    "from botocore.client import Config\n",
    "import ibm_boto3\n",
    "\n",
    "def __iter__(self): return 0\n",
    "\n",
    "# @hidden_cell\n",
    "# The following code accesses a file in your IBM Cloud Object Storage. It includes your credentials.\n",
    "# You might want to remove those credentials before you share the notebook.\n",
    "client_4c6fa590fc764326b69305ee65fa07d2 = ibm_boto3.client(service_name='s3',\n",
    "    ibm_api_key_id='BCl6gltfE5Luk5slOpcu9Nlrq9hxQrn4m0H5z8Gm2q1f',\n",
    "    ibm_auth_endpoint=\"https://iam.ng.bluemix.net/oidc/token\",\n",
    "    config=Config(signature_version='oauth'),\n",
    "    endpoint_url='https://s3-api.us-geo.objectstorage.service.networklayer.com')\n",
    "\n",
    "body = client_4c6fa590fc764326b69305ee65fa07d2.get_object(Bucket='covid-donotdelete-pr-zhbc5zrjtrt3nt',Key='time_series-ncov-Confirmed.csv')['Body']\n",
    "# add missing __iter__ method, so pandas accepts body as file-like object\n",
    "if not hasattr(body, \"__iter__\"): body.__iter__ = types.MethodType( __iter__, body )\n",
    "\n",
    "# If you are reading an Excel file into a pandas DataFrame, replace `read_csv` by `read_excel` in the next statement.\n",
    "df_data = pd.read_csv(body)\n",
    "df_data.head()\n"
   ]
  },
  {
   "cell_type": "code",
   "execution_count": 49,
   "metadata": {},
   "outputs": [],
   "source": [
    "import numpy as np"
   ]
  },
  {
   "cell_type": "code",
   "execution_count": 59,
   "metadata": {},
   "outputs": [
    {
     "data": {
      "text/html": [
       "<div>\n",
       "<style scoped>\n",
       "    .dataframe tbody tr th:only-of-type {\n",
       "        vertical-align: middle;\n",
       "    }\n",
       "\n",
       "    .dataframe tbody tr th {\n",
       "        vertical-align: top;\n",
       "    }\n",
       "\n",
       "    .dataframe thead th {\n",
       "        text-align: right;\n",
       "    }\n",
       "</style>\n",
       "<table border=\"1\" class=\"dataframe\">\n",
       "  <thead>\n",
       "    <tr style=\"text-align: right;\">\n",
       "      <th></th>\n",
       "      <th>Province/State</th>\n",
       "      <th>Country/Region</th>\n",
       "      <th>Lat</th>\n",
       "      <th>Long</th>\n",
       "      <th>Date</th>\n",
       "      <th>Value</th>\n",
       "    </tr>\n",
       "  </thead>\n",
       "  <tbody>\n",
       "    <tr>\n",
       "      <th>0</th>\n",
       "      <td>#adm1+name</td>\n",
       "      <td>#country+name</td>\n",
       "      <td>#geo+lat</td>\n",
       "      <td>#geo+lon</td>\n",
       "      <td>#date</td>\n",
       "      <td>#affected+infected+value+num</td>\n",
       "    </tr>\n",
       "    <tr>\n",
       "      <th>1</th>\n",
       "      <td>NaN</td>\n",
       "      <td>Afghanistan</td>\n",
       "      <td>33</td>\n",
       "      <td>65</td>\n",
       "      <td>2020-03-16</td>\n",
       "      <td>21</td>\n",
       "    </tr>\n",
       "    <tr>\n",
       "      <th>2</th>\n",
       "      <td>NaN</td>\n",
       "      <td>Afghanistan</td>\n",
       "      <td>33</td>\n",
       "      <td>65</td>\n",
       "      <td>2020-03-15</td>\n",
       "      <td>16</td>\n",
       "    </tr>\n",
       "    <tr>\n",
       "      <th>3</th>\n",
       "      <td>NaN</td>\n",
       "      <td>Afghanistan</td>\n",
       "      <td>33</td>\n",
       "      <td>65</td>\n",
       "      <td>2020-03-14</td>\n",
       "      <td>11</td>\n",
       "    </tr>\n",
       "    <tr>\n",
       "      <th>4</th>\n",
       "      <td>NaN</td>\n",
       "      <td>Afghanistan</td>\n",
       "      <td>33</td>\n",
       "      <td>65</td>\n",
       "      <td>2020-03-13</td>\n",
       "      <td>7</td>\n",
       "    </tr>\n",
       "  </tbody>\n",
       "</table>\n",
       "</div>"
      ],
      "text/plain": [
       "  Province/State Country/Region       Lat      Long        Date  \\\n",
       "0     #adm1+name  #country+name  #geo+lat  #geo+lon       #date   \n",
       "1            NaN    Afghanistan        33        65  2020-03-16   \n",
       "2            NaN    Afghanistan        33        65  2020-03-15   \n",
       "3            NaN    Afghanistan        33        65  2020-03-14   \n",
       "4            NaN    Afghanistan        33        65  2020-03-13   \n",
       "\n",
       "                          Value  \n",
       "0  #affected+infected+value+num  \n",
       "1                            21  \n",
       "2                            16  \n",
       "3                            11  \n",
       "4                             7  "
      ]
     },
     "execution_count": 59,
     "metadata": {},
     "output_type": "execute_result"
    }
   ],
   "source": [
    "df_data.head()"
   ]
  },
  {
   "cell_type": "code",
   "execution_count": 60,
   "metadata": {},
   "outputs": [],
   "source": [
    "new_df = df_data.drop([\"Province/State\",\"Lat\",\"Long\",\"Date\"],axis=1)"
   ]
  },
  {
   "cell_type": "code",
   "execution_count": 61,
   "metadata": {},
   "outputs": [
    {
     "data": {
      "text/html": [
       "<div>\n",
       "<style scoped>\n",
       "    .dataframe tbody tr th:only-of-type {\n",
       "        vertical-align: middle;\n",
       "    }\n",
       "\n",
       "    .dataframe tbody tr th {\n",
       "        vertical-align: top;\n",
       "    }\n",
       "\n",
       "    .dataframe thead th {\n",
       "        text-align: right;\n",
       "    }\n",
       "</style>\n",
       "<table border=\"1\" class=\"dataframe\">\n",
       "  <thead>\n",
       "    <tr style=\"text-align: right;\">\n",
       "      <th></th>\n",
       "      <th>Country/Region</th>\n",
       "      <th>Value</th>\n",
       "    </tr>\n",
       "  </thead>\n",
       "  <tbody>\n",
       "    <tr>\n",
       "      <th>0</th>\n",
       "      <td>#country+name</td>\n",
       "      <td>#affected+infected+value+num</td>\n",
       "    </tr>\n",
       "    <tr>\n",
       "      <th>1</th>\n",
       "      <td>Afghanistan</td>\n",
       "      <td>21</td>\n",
       "    </tr>\n",
       "    <tr>\n",
       "      <th>2</th>\n",
       "      <td>Afghanistan</td>\n",
       "      <td>16</td>\n",
       "    </tr>\n",
       "    <tr>\n",
       "      <th>3</th>\n",
       "      <td>Afghanistan</td>\n",
       "      <td>11</td>\n",
       "    </tr>\n",
       "    <tr>\n",
       "      <th>4</th>\n",
       "      <td>Afghanistan</td>\n",
       "      <td>7</td>\n",
       "    </tr>\n",
       "  </tbody>\n",
       "</table>\n",
       "</div>"
      ],
      "text/plain": [
       "  Country/Region                         Value\n",
       "0  #country+name  #affected+infected+value+num\n",
       "1    Afghanistan                            21\n",
       "2    Afghanistan                            16\n",
       "3    Afghanistan                            11\n",
       "4    Afghanistan                             7"
      ]
     },
     "execution_count": 61,
     "metadata": {},
     "output_type": "execute_result"
    }
   ],
   "source": [
    "new_df.head()"
   ]
  },
  {
   "cell_type": "code",
   "execution_count": 62,
   "metadata": {},
   "outputs": [],
   "source": [
    "new_df = new_df.drop([0],axis=0)"
   ]
  },
  {
   "cell_type": "code",
   "execution_count": 135,
   "metadata": {},
   "outputs": [],
   "source": [
    "names = new_df[\"Country/Region\"].unique()"
   ]
  },
  {
   "cell_type": "code",
   "execution_count": 63,
   "metadata": {},
   "outputs": [
    {
     "data": {
      "text/html": [
       "<div>\n",
       "<style scoped>\n",
       "    .dataframe tbody tr th:only-of-type {\n",
       "        vertical-align: middle;\n",
       "    }\n",
       "\n",
       "    .dataframe tbody tr th {\n",
       "        vertical-align: top;\n",
       "    }\n",
       "\n",
       "    .dataframe thead th {\n",
       "        text-align: right;\n",
       "    }\n",
       "</style>\n",
       "<table border=\"1\" class=\"dataframe\">\n",
       "  <thead>\n",
       "    <tr style=\"text-align: right;\">\n",
       "      <th></th>\n",
       "      <th>Country/Region</th>\n",
       "      <th>Value</th>\n",
       "    </tr>\n",
       "  </thead>\n",
       "  <tbody>\n",
       "    <tr>\n",
       "      <th>1</th>\n",
       "      <td>Afghanistan</td>\n",
       "      <td>21</td>\n",
       "    </tr>\n",
       "    <tr>\n",
       "      <th>2</th>\n",
       "      <td>Afghanistan</td>\n",
       "      <td>16</td>\n",
       "    </tr>\n",
       "  </tbody>\n",
       "</table>\n",
       "</div>"
      ],
      "text/plain": [
       "  Country/Region Value\n",
       "1    Afghanistan    21\n",
       "2    Afghanistan    16"
      ]
     },
     "execution_count": 63,
     "metadata": {},
     "output_type": "execute_result"
    }
   ],
   "source": [
    "new_df.head(2)"
   ]
  },
  {
   "cell_type": "code",
   "execution_count": 158,
   "metadata": {},
   "outputs": [],
   "source": [
    "def sum_column(frame,country):\n",
    "    new = frame[frame[\"Country/Region\"] == country]\n",
    "    return sum(new[\"Value\"].apply(int))"
   ]
  },
  {
   "cell_type": "code",
   "execution_count": 159,
   "metadata": {},
   "outputs": [],
   "source": [
    "sums = []\n",
    "for name in names:\n",
    "    sums.append(sum_column(new_df,name))"
   ]
  },
  {
   "cell_type": "code",
   "execution_count": 92,
   "metadata": {},
   "outputs": [
    {
     "data": {
      "text/html": [
       "<div>\n",
       "<style scoped>\n",
       "    .dataframe tbody tr th:only-of-type {\n",
       "        vertical-align: middle;\n",
       "    }\n",
       "\n",
       "    .dataframe tbody tr th {\n",
       "        vertical-align: top;\n",
       "    }\n",
       "\n",
       "    .dataframe thead th {\n",
       "        text-align: right;\n",
       "    }\n",
       "</style>\n",
       "<table border=\"1\" class=\"dataframe\">\n",
       "  <thead>\n",
       "    <tr style=\"text-align: right;\">\n",
       "      <th></th>\n",
       "      <th>Province/State</th>\n",
       "      <th>Country/Region</th>\n",
       "      <th>Lat</th>\n",
       "      <th>Long</th>\n",
       "      <th>Date</th>\n",
       "      <th>Value</th>\n",
       "    </tr>\n",
       "  </thead>\n",
       "  <tbody>\n",
       "    <tr>\n",
       "      <th>0</th>\n",
       "      <td>#adm1+name</td>\n",
       "      <td>#country+name</td>\n",
       "      <td>#geo+lat</td>\n",
       "      <td>#geo+lon</td>\n",
       "      <td>#date</td>\n",
       "      <td>#affected+killed+value+num</td>\n",
       "    </tr>\n",
       "    <tr>\n",
       "      <th>1</th>\n",
       "      <td>NaN</td>\n",
       "      <td>Afghanistan</td>\n",
       "      <td>33</td>\n",
       "      <td>65</td>\n",
       "      <td>2020-03-16</td>\n",
       "      <td>0</td>\n",
       "    </tr>\n",
       "    <tr>\n",
       "      <th>2</th>\n",
       "      <td>NaN</td>\n",
       "      <td>Afghanistan</td>\n",
       "      <td>33</td>\n",
       "      <td>65</td>\n",
       "      <td>2020-03-15</td>\n",
       "      <td>0</td>\n",
       "    </tr>\n",
       "    <tr>\n",
       "      <th>3</th>\n",
       "      <td>NaN</td>\n",
       "      <td>Afghanistan</td>\n",
       "      <td>33</td>\n",
       "      <td>65</td>\n",
       "      <td>2020-03-14</td>\n",
       "      <td>0</td>\n",
       "    </tr>\n",
       "    <tr>\n",
       "      <th>4</th>\n",
       "      <td>NaN</td>\n",
       "      <td>Afghanistan</td>\n",
       "      <td>33</td>\n",
       "      <td>65</td>\n",
       "      <td>2020-03-13</td>\n",
       "      <td>0</td>\n",
       "    </tr>\n",
       "  </tbody>\n",
       "</table>\n",
       "</div>"
      ],
      "text/plain": [
       "  Province/State Country/Region       Lat      Long        Date  \\\n",
       "0     #adm1+name  #country+name  #geo+lat  #geo+lon       #date   \n",
       "1            NaN    Afghanistan        33        65  2020-03-16   \n",
       "2            NaN    Afghanistan        33        65  2020-03-15   \n",
       "3            NaN    Afghanistan        33        65  2020-03-14   \n",
       "4            NaN    Afghanistan        33        65  2020-03-13   \n",
       "\n",
       "                        Value  \n",
       "0  #affected+killed+value+num  \n",
       "1                           0  \n",
       "2                           0  \n",
       "3                           0  \n",
       "4                           0  "
      ]
     },
     "execution_count": 92,
     "metadata": {},
     "output_type": "execute_result"
    }
   ],
   "source": [
    "\n",
    "body = client_4c6fa590fc764326b69305ee65fa07d2.get_object(Bucket='covid-donotdelete-pr-zhbc5zrjtrt3nt',Key='time_series-ncov-Deaths.csv')['Body']\n",
    "# add missing __iter__ method, so pandas accepts body as file-like object\n",
    "if not hasattr(body, \"__iter__\"): body.__iter__ = types.MethodType( __iter__, body )\n",
    "\n",
    "# If you are reading an Excel file into a pandas DataFrame, replace `read_csv` by `read_excel` in the next statement.\n",
    "df_data_1 = pd.read_csv(body)\n",
    "df_data_1.head()\n"
   ]
  },
  {
   "cell_type": "code",
   "execution_count": 93,
   "metadata": {},
   "outputs": [],
   "source": [
    "df_new = df_data_1.drop([\"Province/State\",\"Lat\",\"Long\",\"Date\"],axis=1)"
   ]
  },
  {
   "cell_type": "code",
   "execution_count": 95,
   "metadata": {},
   "outputs": [],
   "source": [
    "df_new = df_new.drop([0],axis=0)"
   ]
  },
  {
   "cell_type": "code",
   "execution_count": 140,
   "metadata": {},
   "outputs": [
    {
     "data": {
      "text/html": [
       "<div>\n",
       "<style scoped>\n",
       "    .dataframe tbody tr th:only-of-type {\n",
       "        vertical-align: middle;\n",
       "    }\n",
       "\n",
       "    .dataframe tbody tr th {\n",
       "        vertical-align: top;\n",
       "    }\n",
       "\n",
       "    .dataframe thead th {\n",
       "        text-align: right;\n",
       "    }\n",
       "</style>\n",
       "<table border=\"1\" class=\"dataframe\">\n",
       "  <thead>\n",
       "    <tr style=\"text-align: right;\">\n",
       "      <th></th>\n",
       "      <th>Country/Region</th>\n",
       "      <th>Value</th>\n",
       "    </tr>\n",
       "  </thead>\n",
       "  <tbody>\n",
       "    <tr>\n",
       "      <th>1</th>\n",
       "      <td>Afghanistan</td>\n",
       "      <td>0</td>\n",
       "    </tr>\n",
       "    <tr>\n",
       "      <th>2</th>\n",
       "      <td>Afghanistan</td>\n",
       "      <td>0</td>\n",
       "    </tr>\n",
       "    <tr>\n",
       "      <th>3</th>\n",
       "      <td>Afghanistan</td>\n",
       "      <td>0</td>\n",
       "    </tr>\n",
       "    <tr>\n",
       "      <th>4</th>\n",
       "      <td>Afghanistan</td>\n",
       "      <td>0</td>\n",
       "    </tr>\n",
       "    <tr>\n",
       "      <th>5</th>\n",
       "      <td>Afghanistan</td>\n",
       "      <td>0</td>\n",
       "    </tr>\n",
       "  </tbody>\n",
       "</table>\n",
       "</div>"
      ],
      "text/plain": [
       "  Country/Region Value\n",
       "1    Afghanistan     0\n",
       "2    Afghanistan     0\n",
       "3    Afghanistan     0\n",
       "4    Afghanistan     0\n",
       "5    Afghanistan     0"
      ]
     },
     "execution_count": 140,
     "metadata": {},
     "output_type": "execute_result"
    }
   ],
   "source": [
    "df_new.head()"
   ]
  },
  {
   "cell_type": "code",
   "execution_count": 160,
   "metadata": {},
   "outputs": [],
   "source": [
    "death_sums = []\n",
    "for name in names:\n",
    "    death_sums.append(sum_column(df_new,name))"
   ]
  },
  {
   "cell_type": "code",
   "execution_count": 166,
   "metadata": {},
   "outputs": [
    {
     "data": {
      "text/plain": [
       "array([[     95,     211,     340,      16,       4,     258,     119,\n",
       "              8,    2504,    4278,     152,    2071,      34,     188,\n",
       "           4926,       1,      11,      38,     116,     875,     205,\n",
       "            193,      27,      79,      22,    2003,       2,     422,\n",
       "        2962462,     148,       2,      10,     171,       6,     336,\n",
       "          21260,      19,     116,    1237,    4990,      72,     256,\n",
       "            796,       2,     666,       3,       8,    1215,   31338,\n",
       "             11,       3,     240,   32263,      15,    1677,       1,\n",
       "             11,       3,       4,       3,       4,      11,      11,\n",
       "             17,     181,    1181,     911,     552,  117303,    1059,\n",
       "            730,    1473,  170830,      39,   10817,       6,      37,\n",
       "             29,       8,  121156,       4,    1329,     149,     730,\n",
       "              1,      22,      61,     268,    3009,      75,     107,\n",
       "             50,       3,       1,     215,      75,      27,       7,\n",
       "            108,       6,      52,    6784,      72,      26,     102,\n",
       "           7218,       0,     277,     360,     181,      39,     247,\n",
       "            729,     608,    1126,       3,    2124,       1,      29,\n",
       "            695,     460,       7,       5,       3,     727,     540,\n",
       "            107,     224,       7,    4364,     234,    1019,       1,\n",
       "            221,   39259,     110,       4,       3,    6300,   10251,\n",
       "           1430,       1,    2042,       1,      11,       8,      99,\n",
       "             36,      26,    1168,    7484,      16,   20021,       7,\n",
       "             29,     915],\n",
       "       [      0,       6,      14,       0,       0,      13,       0,\n",
       "              0,      38,       7,       4,       1,       0,       0,\n",
       "             22,       0,       0,       0,       0,       0,       0,\n",
       "              9,       0,       0,       0,      11,       0,       0,\n",
       "          96641,       0,       0,       0,       0,       0,       0,\n",
       "            137,       0,       0,       0,       6,       0,       6,\n",
       "             13,       0,       0,       0,       0,       0,     634,\n",
       "              0,       0,       0,      54,       0,      14,       0,\n",
       "              0,       0,       1,       0,       0,       5,       0,\n",
       "              0,       2,       5,      10,      21,    5043,      84,\n",
       "              9,       0,   10740,       0,     217,       0,       0,\n",
       "              0,       0,     883,       0,       0,       0,      19,\n",
       "              0,       0,       0,       3,       0,       0,       0,\n",
       "              1,       0,       0,       0,       0,       0,       0,\n",
       "              7,       0,       0,      88,       0,       0,       0,\n",
       "              9,       0,       0,       0,       6,       0,       0,\n",
       "             77,      13,       0,       0,       0,       0,       0,\n",
       "              0,       0,       0,       0,       0,      36,       0,\n",
       "              0,       0,       0,       0,       0,       3,       0,\n",
       "              0,    1169,       0,       4,       0,      14,      70,\n",
       "             30,       0,      16,       0,       0,       0,       0,\n",
       "              0,       4,       0,     140,       0,     465,       0,\n",
       "              0,       0]])"
      ]
     },
     "execution_count": 166,
     "metadata": {},
     "output_type": "execute_result"
    }
   ],
   "source": [
    "final = np.array((sums,death_sums))\n",
    "final"
   ]
  },
  {
   "cell_type": "code",
   "execution_count": 169,
   "metadata": {},
   "outputs": [],
   "source": [
    "final = np.array(list(zip(sums,death_sums)))"
   ]
  },
  {
   "cell_type": "code",
   "execution_count": 171,
   "metadata": {},
   "outputs": [
    {
     "data": {
      "text/plain": [
       "(156, 2)"
      ]
     },
     "execution_count": 171,
     "metadata": {},
     "output_type": "execute_result"
    }
   ],
   "source": [
    "final.shape"
   ]
  },
  {
   "cell_type": "code",
   "execution_count": 176,
   "metadata": {},
   "outputs": [],
   "source": [
    "result = pd.DataFrame(data=final,index=names,columns=[\"Confirmed\",\"Death\"])"
   ]
  },
  {
   "cell_type": "code",
   "execution_count": 178,
   "metadata": {},
   "outputs": [],
   "source": [
    "result.to_csv(\"covid-19.csv\")"
   ]
  },
  {
   "cell_type": "code",
   "execution_count": null,
   "metadata": {},
   "outputs": [],
   "source": []
  }
 ],
 "metadata": {
  "kernelspec": {
   "display_name": "Python 3.6",
   "language": "python",
   "name": "python3"
  },
  "language_info": {
   "codemirror_mode": {
    "name": "ipython",
    "version": 3
   },
   "file_extension": ".py",
   "mimetype": "text/x-python",
   "name": "python",
   "nbconvert_exporter": "python",
   "pygments_lexer": "ipython3",
   "version": "3.6.9"
  }
 },
 "nbformat": 4,
 "nbformat_minor": 1
}
